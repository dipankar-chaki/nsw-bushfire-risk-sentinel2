{
  "cells": [
    {
      "cell_type": "raw",
      "metadata": {
        "vscode": {
          "languageId": "raw"
        }
      },
      "source": [
        "# NSW Bushfire Risk Assessment using Sentinel-2 Imagery\n",
        "\n",
        "This notebook demonstrates the complete workflow for assessing bushfire risk in NSW using Sentinel-2 satellite imagery and vegetation indices.\n",
        "\n",
        "## Project Overview\n",
        "\n",
        "- **Objective**: Assess bushfire risk in the Blue Mountains region of NSW\n",
        "- **Data Source**: Simulated Sentinel-2 imagery (Level-2A equivalent)\n",
        "- **Methodology**: Calculate vegetation indices (NDVI, NDMI, NBR) and combine into risk scores\n",
        "- **Outputs**: Static maps, interactive visualizations, and database records\n",
        "\n",
        "## Study Area: Blue Mountains, NSW\n",
        "\n",
        "- **Bounding Box**: 150.0°E to 150.8°E, -34.0°N to -33.5°N\n",
        "- **Area**: Approximately 64,000 hectares\n",
        "- **Characteristics**: Eucalyptus forests, varying terrain, bushfire-prone area\n"
      ]
    },
    {
      "cell_type": "code",
      "execution_count": null,
      "metadata": {},
      "outputs": [],
      "source": [
        "# Import required libraries\n",
        "import numpy as np\n",
        "import matplotlib.pyplot as plt\n",
        "import logging\n",
        "from pathlib import Path\n",
        "import warnings\n",
        "warnings.filterwarnings('ignore')\n",
        "\n",
        "# Import our custom modules\n",
        "from vegetation_indices import VegetationIndexCalculator\n",
        "from risk_assessment import BushfireRiskAssessor\n",
        "from visualization import BushfireRiskVisualizer\n",
        "from database import BushfireRiskDatabase, test_database_connection\n",
        "from main import BushfireRiskAssessment\n",
        "\n",
        "# Set up logging\n",
        "logging.basicConfig(level=logging.INFO, format='%(name)s - %(levelname)s - %(message)s')\n",
        "\n",
        "print(\"✓ All libraries imported successfully\")\n",
        "print(\"✓ NSW Bushfire Risk Assessment modules loaded\")\n"
      ]
    },
    {
      "cell_type": "raw",
      "metadata": {
        "vscode": {
          "languageId": "raw"
        }
      },
      "source": [
        "## 1. Data Loading and Preparation\n",
        "\n",
        "For this demonstration, we'll use synthetic Sentinel-2 data that mimics real satellite imagery characteristics. In a production environment, you would download actual Sentinel-2 Level-2A products from the Copernicus Open Access Hub.\n"
      ]
    },
    {
      "cell_type": "code",
      "execution_count": null,
      "metadata": {},
      "outputs": [],
      "source": [
        "# Initialize the assessment system\n",
        "assessment = BushfireRiskAssessment(output_dir=\"./notebook_output\")\n",
        "\n",
        "# Load sample Sentinel-2 data\n",
        "print(\"Loading synthetic Sentinel-2 data...\")\n",
        "bands = assessment.load_sample_data()\n",
        "\n",
        "# Display information about the loaded data\n",
        "print(f\"✓ Loaded {len(bands)} spectral bands\")\n",
        "print(f\"✓ Data shape: {bands['B04'].shape}\")\n",
        "print(f\"✓ Bands available: {list(bands.keys())}\")\n",
        "\n",
        "# Show data statistics\n",
        "print(\"\\nBand Statistics:\")\n",
        "for band_name, band_data in bands.items():\n",
        "    print(f\"  {band_name}: Min={band_data.min():.0f}, Max={band_data.max():.0f}, Mean={band_data.mean():.0f}\")\n"
      ]
    },
    {
      "cell_type": "raw",
      "metadata": {
        "vscode": {
          "languageId": "raw"
        }
      },
      "source": [
        "## 2. Vegetation Index Calculation\n",
        "\n",
        "We calculate three key vegetation indices that are important for bushfire risk assessment:\n",
        "\n",
        "- **NDVI (Normalized Difference Vegetation Index)**: Measures vegetation health and density\n",
        "- **NDMI (Normalized Difference Moisture Index)**: Indicates vegetation moisture content\n",
        "- **NBR (Normalized Burn Ratio)**: Used for burn severity assessment and fire susceptibility\n"
      ]
    },
    {
      "cell_type": "code",
      "execution_count": null,
      "metadata": {},
      "outputs": [],
      "source": [
        "# Calculate vegetation indices\n",
        "print(\"Calculating vegetation indices...\")\n",
        "indices = assessment.calculate_vegetation_indices(bands)\n",
        "\n",
        "# Display index statistics\n",
        "print(f\"✓ Calculated {len(indices)} vegetation indices\")\n",
        "print(\"\\nVegetation Index Statistics:\")\n",
        "for index_name, index_data in indices.items():\n",
        "    print(f\"  {index_name}: Range {index_data.min():.3f} to {index_data.max():.3f}, Mean {index_data.mean():.3f}\")\n",
        "\n",
        "# Visualize the indices\n",
        "fig, axes = plt.subplots(1, 3, figsize=(15, 4))\n",
        "fig.suptitle('Vegetation Indices - Blue Mountains Study Area', fontsize=14, fontweight='bold')\n",
        "\n",
        "index_configs = {\n",
        "    'NDVI': {'cmap': 'RdYlGn', 'title': 'NDVI\\n(Vegetation Health)'},\n",
        "    'NDMI': {'cmap': 'Blues', 'title': 'NDMI\\n(Moisture Content)'},\n",
        "    'NBR': {'cmap': 'RdBu', 'title': 'NBR\\n(Burn Ratio)'}\n",
        "}\n",
        "\n",
        "for i, (index_name, index_data) in enumerate(indices.items()):\n",
        "    config = index_configs[index_name]\n",
        "    im = axes[i].imshow(index_data, cmap=config['cmap'], vmin=-1, vmax=1)\n",
        "    axes[i].set_title(config['title'])\n",
        "    axes[i].axis('off')\n",
        "    plt.colorbar(im, ax=axes[i], shrink=0.8)\n",
        "\n",
        "plt.tight_layout()\n",
        "plt.show()\n"
      ]
    },
    {
      "cell_type": "raw",
      "metadata": {
        "vscode": {
          "languageId": "raw"
        }
      },
      "source": [
        "## 3. Bushfire Risk Assessment\n",
        "\n",
        "The risk assessment model combines the vegetation indices using weighted scores:\n",
        "- **NDVI (30%)**: Lower vegetation health = higher risk\n",
        "- **NDMI (50%)**: Lower moisture content = higher risk  \n",
        "- **NBR (20%)**: Lower burn resistance = higher risk\n",
        "\n",
        "Risk is classified into 5 categories: Very Low, Low, Moderate, High, Very High\n"
      ]
    },
    {
      "cell_type": "code",
      "execution_count": null,
      "metadata": {},
      "outputs": [],
      "source": [
        "# Assess bushfire risk\n",
        "print(\"Assessing bushfire risk...\")\n",
        "risk_scores, risk_categories = assessment.assess_risk(indices)\n",
        "\n",
        "print(f\"✓ Risk assessment completed\")\n",
        "print(f\"✓ Risk scores range: {risk_scores.min():.1f} to {risk_scores.max():.1f}\")\n",
        "print(f\"✓ Mean risk score: {risk_scores.mean():.1f}\")\n",
        "\n",
        "# Calculate area statistics\n",
        "area_stats = assessment.risk_assessor.calculate_area_statistics(risk_categories)\n",
        "print(\"\\nRisk Category Distribution:\")\n",
        "for category, stats in area_stats.items():\n",
        "    print(f\"  {category}: {stats['percentage']:.1f}% ({stats['area_hectares']:.0f} ha)\")\n",
        "\n",
        "# Visualize risk assessment results\n",
        "fig, (ax1, ax2) = plt.subplots(1, 2, figsize=(15, 6))\n",
        "\n",
        "# Risk scores (continuous)\n",
        "im1 = ax1.imshow(risk_scores, cmap='YlOrRd', vmin=0, vmax=100)\n",
        "ax1.set_title('Bushfire Risk Scores (0-100)', fontweight='bold')\n",
        "ax1.axis('off')\n",
        "cbar1 = plt.colorbar(im1, ax=ax1, shrink=0.8)\n",
        "cbar1.set_label('Risk Score')\n",
        "\n",
        "# Risk categories (discrete)\n",
        "risk_colors = ['#2E8B57', '#FFD700', '#FF8C00', '#FF4500', '#DC143C']\n",
        "from matplotlib.colors import ListedColormap\n",
        "cmap_cat = ListedColormap(risk_colors)\n",
        "\n",
        "im2 = ax2.imshow(risk_categories, cmap=cmap_cat, vmin=1, vmax=5)\n",
        "ax2.set_title('Risk Categories', fontweight='bold')\n",
        "ax2.axis('off')\n",
        "cbar2 = plt.colorbar(im2, ax=ax2, shrink=0.8, ticks=range(1, 6))\n",
        "cbar2.set_label('Risk Category')\n",
        "cbar2.set_ticklabels(['Very Low', 'Low', 'Moderate', 'High', 'Very High'])\n",
        "\n",
        "plt.tight_layout()\n",
        "plt.show()\n"
      ]
    },
    {
      "cell_type": "raw",
      "metadata": {
        "vscode": {
          "languageId": "raw"
        }
      },
      "source": [
        "## 4. Interactive Visualization\n",
        "\n",
        "Create an interactive map using Folium to explore the risk assessment results. The map includes:\n",
        "- Multiple base layers (OpenStreetMap, Terrain, etc.)\n",
        "- Risk score and category overlays\n",
        "- High-risk area markers\n",
        "- Interactive legend\n"
      ]
    },
    {
      "cell_type": "code",
      "execution_count": null,
      "metadata": {},
      "outputs": [],
      "source": [
        "# Create interactive map\n",
        "print(\"Creating interactive Folium map...\")\n",
        "\n",
        "# Define study area bounds\n",
        "bounds = (assessment.study_area['min_lon'], assessment.study_area['min_lat'], \n",
        "         assessment.study_area['max_lon'], assessment.study_area['max_lat'])\n",
        "\n",
        "# Create the interactive map\n",
        "folium_map = assessment.visualizer.create_folium_map(\n",
        "    risk_scores, \n",
        "    risk_categories, \n",
        "    bounds,\n",
        "    center_lat=-33.75,\n",
        "    center_lon=150.4,\n",
        "    zoom_start=10\n",
        ")\n",
        "\n",
        "# Save the map to notebook output directory\n",
        "map_path = Path(\"./notebook_output/interactive_map.html\")\n",
        "map_path.parent.mkdir(parents=True, exist_ok=True)\n",
        "assessment.visualizer.save_folium_map(folium_map, map_path)\n",
        "\n",
        "print(f\"✓ Interactive map created and saved to: {map_path}\")\n",
        "print(\"✓ Open the HTML file in a web browser to explore the interactive map\")\n",
        "\n",
        "# Display the map (if running in a Jupyter environment that supports it)\n",
        "try:\n",
        "    folium_map\n",
        "except:\n",
        "    print(\"Note: Map display may not work in all environments. Check the saved HTML file.\")\n"
      ]
    },
    {
      "cell_type": "raw",
      "metadata": {
        "vscode": {
          "languageId": "raw"
        }
      },
      "source": [
        "## 5. Database Integration (Optional)\n",
        "\n",
        "Demonstrate PostGIS spatial database integration. This requires a PostgreSQL database with PostGIS extension.\n",
        "\n",
        "**Note**: Database operations are optional. If no database is configured, the assessment will continue without saving to database.\n"
      ]
    },
    {
      "cell_type": "code",
      "execution_count": null,
      "metadata": {},
      "outputs": [],
      "source": [
        "# Test database connection and save results (optional)\n",
        "print(\"Testing database connection...\")\n",
        "\n",
        "if test_database_connection():\n",
        "    print(\"✓ Database connection successful\")\n",
        "    \n",
        "    # Save results to database\n",
        "    db_record_id = assessment.save_to_database(risk_scores, risk_categories, indices)\n",
        "    \n",
        "    if db_record_id:\n",
        "        print(f\"✓ Assessment saved to database with ID: {db_record_id}\")\n",
        "        \n",
        "        # Query some statistics\n",
        "        from database import setup_database_from_env\n",
        "        with setup_database_from_env() as db:\n",
        "            stats = db.get_risk_statistics()\n",
        "            print(f\"✓ Total assessments in database: {stats['total_assessments']}\")\n",
        "            print(f\"✓ Average risk score: {stats['avg_risk_score']:.1f}\")\n",
        "    else:\n",
        "        print(\"⚠ Failed to save to database\")\n",
        "        \n",
        "else:\n",
        "    print(\"⚠ Database connection failed - skipping database operations\")\n",
        "    print(\"  To enable database features:\")\n",
        "    print(\"  1. Install PostgreSQL with PostGIS extension\")\n",
        "    print(\"  2. Create a database named 'bushfire_risk'\")\n",
        "    print(\"  3. Set environment variables: DB_HOST, DB_NAME, DB_USER, DB_PASSWORD\")\n"
      ]
    },
    {
      "cell_type": "raw",
      "metadata": {
        "vscode": {
          "languageId": "raw"
        }
      },
      "source": [
        "## 6. Summary and Next Steps\n",
        "\n",
        "### What We've Accomplished\n",
        "\n",
        "✅ **Data Processing**: Loaded and processed Sentinel-2 satellite imagery  \n",
        "✅ **Vegetation Analysis**: Calculated NDVI, NDMI, and NBR indices  \n",
        "✅ **Risk Assessment**: Combined indices into bushfire risk scores and categories  \n",
        "✅ **Visualization**: Created static maps and interactive visualizations  \n",
        "✅ **Database Integration**: Demonstrated spatial database storage and queries  \n",
        "\n",
        "### Key Results\n",
        "\n",
        "- **Study Area**: Blue Mountains, NSW (~64,000 hectares)\n",
        "- **Processing Method**: Weighted combination of vegetation indices\n",
        "- **Risk Categories**: 5-level classification (Very Low to Very High)\n",
        "- **Outputs**: Maps, interactive HTML, database records\n",
        "\n",
        "### Production Deployment Considerations\n",
        "\n",
        "1. **Real Data Integration**: Replace synthetic data with actual Sentinel-2 downloads\n",
        "2. **Automated Processing**: Set up scheduled processing of new satellite imagery\n",
        "3. **Validation**: Compare results with known fire incidents and expert knowledge\n",
        "4. **Scalability**: Optimize for larger study areas and higher resolution data\n",
        "5. **Real-time Monitoring**: Integrate with weather data and fire danger ratings\n",
        "\n",
        "### Further Development\n",
        "\n",
        "- **Change Detection**: Compare multiple time periods to detect vegetation changes\n",
        "- **Machine Learning**: Train models on historical fire data for improved accuracy\n",
        "- **Integration**: Connect with emergency services and fire management systems\n",
        "- **Mobile Access**: Develop web or mobile applications for field use\n"
      ]
    },
    {
      "cell_type": "code",
      "execution_count": null,
      "metadata": {},
      "outputs": [],
      "source": [
        "# Final summary\n",
        "print(\"=\" * 60)\n",
        "print(\"NSW BUSHFIRE RISK ASSESSMENT - COMPLETED\")\n",
        "print(\"=\" * 60)\n",
        "print(f\"Study Area: Blue Mountains, NSW\")\n",
        "print(f\"Data Shape: {risk_scores.shape}\")\n",
        "print(f\"Mean Risk Score: {risk_scores.mean():.1f}/100\")\n",
        "print(f\"High Risk Areas: {np.sum(risk_categories >= 4) / risk_categories.size * 100:.1f}%\")\n",
        "print(f\"Output Directory: ./notebook_output/\")\n",
        "print(\"=\" * 60)\n",
        "\n",
        "# List all generated files\n",
        "output_dir = Path(\"./notebook_output\")\n",
        "if output_dir.exists():\n",
        "    files = list(output_dir.glob(\"*\"))\n",
        "    if files:\n",
        "        print(f\"Generated {len(files)} output files:\")\n",
        "        for file in files:\n",
        "            print(f\"  📁 {file.name}\")\n",
        "    else:\n",
        "        print(\"Output directory created but no files generated yet.\")\n",
        "\n",
        "print(\"\\n🎯 Demonstration completed successfully!\")\n",
        "print(\"🚀 Ready for production deployment with real Sentinel-2 data\")\n"
      ]
    }
  ],
  "metadata": {
    "language_info": {
      "name": "python"
    }
  },
  "nbformat": 4,
  "nbformat_minor": 2
}
